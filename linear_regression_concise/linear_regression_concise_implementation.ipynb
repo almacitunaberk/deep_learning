{
 "cells": [
  {
   "cell_type": "markdown",
   "id": "2bf3b4d3",
   "metadata": {},
   "source": [
    "## Notebook Setup"
   ]
  },
  {
   "cell_type": "code",
   "execution_count": 15,
   "id": "ca70a2e9",
   "metadata": {},
   "outputs": [],
   "source": [
    "%matplotlib inline\n",
    "import torch\n",
    "from torch.utils import data\n",
    "from d2l import torch as d2l"
   ]
  },
  {
   "cell_type": "markdown",
   "id": "567fc9fd",
   "metadata": {},
   "source": [
    "## Generating Dataset\n",
    "\n",
    "We are going to generate our pseudo dataset in the same way that we did for the from scratch implementation"
   ]
  },
  {
   "cell_type": "code",
   "execution_count": 16,
   "id": "5746c350",
   "metadata": {},
   "outputs": [],
   "source": [
    "true_w = torch.tensor([2, -3.4])\n",
    "true_b = 4.2\n",
    "features, labels = d2l.synthetic_data(true_w, true_b, 1000)"
   ]
  },
  {
   "cell_type": "markdown",
   "id": "6f16feff",
   "metadata": {},
   "source": [
    "## Reading The Dataset"
   ]
  },
  {
   "cell_type": "code",
   "execution_count": 17,
   "id": "21c81902",
   "metadata": {},
   "outputs": [],
   "source": [
    "def load_array(data_arrays, batch_size, is_train=True):\n",
    "    dataset = data.TensorDataset(*data_arrays)\n",
    "    return data.DataLoader(dataset, batch_size, shuffle=is_train)"
   ]
  },
  {
   "cell_type": "code",
   "execution_count": 18,
   "id": "f66b3503",
   "metadata": {},
   "outputs": [],
   "source": [
    "batch_size = 10\n",
    "data_iter = load_array((features, labels), batch_size)"
   ]
  },
  {
   "cell_type": "code",
   "execution_count": 19,
   "id": "415c4442",
   "metadata": {},
   "outputs": [
    {
     "data": {
      "text/plain": [
       "[tensor([[ 1.2603,  2.1468],\n",
       "         [-1.1109, -0.4201],\n",
       "         [-0.2485, -1.5792],\n",
       "         [-1.5347, -0.6810],\n",
       "         [-0.5844, -0.6747],\n",
       "         [ 2.2313, -0.4320],\n",
       "         [ 1.1931,  0.5699],\n",
       "         [ 0.4370, -1.3818],\n",
       "         [-0.3367,  0.3712],\n",
       "         [ 0.5872,  0.5179]]),\n",
       " tensor([[-0.5668],\n",
       "         [ 3.3921],\n",
       "         [ 9.0702],\n",
       "         [ 3.4517],\n",
       "         [ 5.3382],\n",
       "         [10.1435],\n",
       "         [ 4.6545],\n",
       "         [ 9.7608],\n",
       "         [ 2.2723],\n",
       "         [ 3.6373]])]"
      ]
     },
     "execution_count": 19,
     "metadata": {},
     "output_type": "execute_result"
    }
   ],
   "source": [
    "next(iter(data_iter))"
   ]
  },
  {
   "cell_type": "markdown",
   "id": "7bffc488",
   "metadata": {},
   "source": [
    "## Defining Our Model\n",
    "\n",
    "Here, we are going to use the Linear model implemented in torch. Notice that we give (2,1) as the dimension of our linear model because our examples have 2 features, and we only have 1 output."
   ]
  },
  {
   "cell_type": "code",
   "execution_count": 20,
   "id": "a8af17d5",
   "metadata": {},
   "outputs": [],
   "source": [
    "from torch import nn\n",
    "net = nn.Sequential(nn.Linear(2,1))"
   ]
  },
  {
   "cell_type": "markdown",
   "id": "1d8c6268",
   "metadata": {},
   "source": [
    "## Initializing Model Parameters"
   ]
  },
  {
   "cell_type": "code",
   "execution_count": 21,
   "id": "02c9fb96",
   "metadata": {},
   "outputs": [
    {
     "data": {
      "text/plain": [
       "tensor([0.])"
      ]
     },
     "execution_count": 21,
     "metadata": {},
     "output_type": "execute_result"
    }
   ],
   "source": [
    "net[0].weight.data.normal_(0, 0.01)\n",
    "net[0].bias.data.fill_(0)"
   ]
  },
  {
   "cell_type": "markdown",
   "id": "914631f2",
   "metadata": {},
   "source": [
    "## Defining The Loss Function"
   ]
  },
  {
   "cell_type": "code",
   "execution_count": 22,
   "id": "eb4011ae",
   "metadata": {},
   "outputs": [],
   "source": [
    "loss = nn.MSELoss()"
   ]
  },
  {
   "cell_type": "markdown",
   "id": "69427f6b",
   "metadata": {},
   "source": [
    "## Defining The Optimization Algorithm"
   ]
  },
  {
   "cell_type": "code",
   "execution_count": 23,
   "id": "5cee5478",
   "metadata": {},
   "outputs": [],
   "source": [
    "trainer = torch.optim.SGD(net.parameters(), lr=0.03)"
   ]
  },
  {
   "cell_type": "markdown",
   "id": "59753a3a",
   "metadata": {},
   "source": [
    "## Training"
   ]
  },
  {
   "cell_type": "code",
   "execution_count": 24,
   "id": "737f5108",
   "metadata": {},
   "outputs": [
    {
     "name": "stdout",
     "output_type": "stream",
     "text": [
      "epoch 1, loss 0.000193\n",
      "epoch 2, loss 0.000102\n",
      "epoch 3, loss 0.000101\n"
     ]
    }
   ],
   "source": [
    "num_epochs = 3\n",
    "\n",
    "for epoch in range(num_epochs):\n",
    "    for X,y in data_iter:\n",
    "        l = loss(net(X), y)\n",
    "        trainer.zero_grad()\n",
    "        l.backward()\n",
    "        trainer.step()\n",
    "    l = loss(net(features), labels)\n",
    "    print(f'epoch {epoch + 1}, loss {l:f}')"
   ]
  },
  {
   "cell_type": "code",
   "execution_count": 27,
   "id": "67809d95",
   "metadata": {},
   "outputs": [
    {
     "name": "stdout",
     "output_type": "stream",
     "text": [
      "error in estimating w: tensor([-0.0002,  0.0005])\n",
      "error in estimating b: tensor([-0.0008])\n"
     ]
    }
   ],
   "source": [
    "w = net[0].weight.data\n",
    "print('error in estimating w:', true_w - w.reshape(true_w.shape))\n",
    "b = net[0].bias.data\n",
    "print('error in estimating b:', true_b - b)"
   ]
  }
 ],
 "metadata": {
  "kernelspec": {
   "display_name": "env_pytorch",
   "language": "python",
   "name": "env_pytorch"
  },
  "language_info": {
   "codemirror_mode": {
    "name": "ipython",
    "version": 3
   },
   "file_extension": ".py",
   "mimetype": "text/x-python",
   "name": "python",
   "nbconvert_exporter": "python",
   "pygments_lexer": "ipython3",
   "version": "3.6.13"
  }
 },
 "nbformat": 4,
 "nbformat_minor": 5
}
